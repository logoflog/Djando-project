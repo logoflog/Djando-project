{
 "cells": [
  {
   "cell_type": "markdown",
   "id": "398836ff",
   "metadata": {},
   "source": [
    "<form action=\"http://127.0.0.1:8000:hello\" method=\"get\">\n",
    "    <div class='c1'>aaa</div>\n",
    "    <div class='c2'>aaa</div>\n",
    "    <div style=\"color: red\">aaa</div>\n",
    "    <input type='text' name='a' value='123'>\n",
    "    <input type='submit' id='submit', value='submit'><br/>\n",
    "    <input type='checkbox' name='b1' checked='checked'>b1</input>\n",
    "    <input type='checkbox' name='b2' checked='checked'>b2</input>\n",
    "    <textarea name='textarea'>text</textarea><br/>\n",
    "    <select name='select'>\n",
    "    <option>111</option>\n",
    "    <option>222</option>\n",
    "    <option selected='selected'>2222222222</option>\n",
    "    </select>\n",
    "    <img src=\"1.png\" width='100'>\n",
    "</form>\n"
   ]
  },
  {
   "cell_type": "markdown",
   "id": "34e9f2b0",
   "metadata": {},
   "source": [
    "%%css-class highlight\n",
    "        display(pd.DataFrame(np.random.rand(3,4)))"
   ]
  },
  {
   "cell_type": "code",
   "execution_count": null,
   "id": "661e95c0",
   "metadata": {},
   "outputs": [],
   "source": []
  },
  {
   "cell_type": "code",
   "execution_count": null,
   "id": "fe876ced",
   "metadata": {},
   "outputs": [],
   "source": []
  }
 ],
 "metadata": {
  "kernelspec": {
   "display_name": "Python 3 (ipykernel)",
   "language": "python",
   "name": "python3"
  },
  "language_info": {
   "codemirror_mode": {
    "name": "ipython",
    "version": 3
   },
   "file_extension": ".py",
   "mimetype": "text/x-python",
   "name": "python",
   "nbconvert_exporter": "python",
   "pygments_lexer": "ipython3",
   "version": "3.9.13"
  }
 },
 "nbformat": 4,
 "nbformat_minor": 5
}
